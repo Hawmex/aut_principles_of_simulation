{
 "cells": [
  {
   "cell_type": "code",
   "execution_count": 32,
   "metadata": {},
   "outputs": [],
   "source": [
    "import framework\n",
    "import math\n",
    "import matplotlib.pyplot as plt\n",
    "\n",
    "from pprint import pp"
   ]
  },
  {
   "cell_type": "markdown",
   "metadata": {},
   "source": [
    "# Q1\n"
   ]
  },
  {
   "cell_type": "code",
   "execution_count": 9,
   "metadata": {},
   "outputs": [
    {
     "name": "stdout",
     "output_type": "stream",
     "text": [
      "D = 0.16300000000000003\n",
      "D_alpha = 0.27\n",
      "\n",
      "Null hypothesis cannot be rejected. [Is uniform]\n",
      "\n",
      "Autocorrelation detected with these values:\n",
      "  start  = 1\n",
      "  lag    = 9\n",
      "  z      = 2.3649477803053496\n",
      "  z_0025 = 1.96\n",
      "\n",
      "Autocorrelation detected with these values:\n",
      "  start  = 1\n",
      "  lag    = 14\n",
      "  z      = 2.2248984533740606\n",
      "  z_0025 = 1.96\n",
      "\n",
      "Autocorrelation detected with these values:\n",
      "  start  = 1\n",
      "  lag    = 18\n",
      "  z      = 2.3385417874026904\n",
      "  z_0025 = 1.96\n",
      "\n",
      "Autocorrelation detected with these values:\n",
      "  start  = 1\n",
      "  lag    = 21\n",
      "  z      = 2.7762790740314895\n",
      "  z_0025 = 1.96\n",
      "\n",
      "Autocorrelation detected with these values:\n",
      "  start  = 1\n",
      "  lag    = 22\n",
      "  z      = 2.452185121431321\n",
      "  z_0025 = 1.96\n",
      "\n",
      "Autocorrelation detected with these values:\n",
      "  start  = 5\n",
      "  lag    = 17\n",
      "  z      = 2.2243042932224903\n",
      "  z_0025 = 1.96\n",
      "\n",
      "Autocorrelation detected with these values:\n",
      "  start  = 6\n",
      "  lag    = 16\n",
      "  z      = 2.1863823617165283\n",
      "  z_0025 = 1.96\n",
      "\n",
      "Autocorrelation detected with these values:\n",
      "  start  = 9\n",
      "  lag    = 13\n",
      "  z      = 2.2243042932224903\n",
      "  z_0025 = 1.96\n",
      "\n",
      "Autocorrelation detected with these values:\n",
      "  start  = 10\n",
      "  lag    = 12\n",
      "  z      = 2.1863823617165283\n",
      "  z_0025 = 1.96\n",
      "\n",
      "Autocorrelation detected with these values:\n",
      "  start  = 11\n",
      "  lag    = 4\n",
      "  z      = 2.0136593004118826\n",
      "  z_0025 = 1.96\n",
      "\n",
      "Autocorrelation detected with these values:\n",
      "  start  = 15\n",
      "  lag    = 4\n",
      "  z      = 2.310976254746033\n",
      "  z_0025 = 1.96\n",
      "\n",
      "Autocorrelation detected with these values:\n",
      "  start  = 15\n",
      "  lag    = 7\n",
      "  z      = 2.228517841167597\n",
      "  z_0025 = 1.96\n",
      "\n",
      "Autocorrelation detected with these values:\n",
      "  start  = 19\n",
      "  lag    = 3\n",
      "  z      = 2.342283635685482\n",
      "  z_0025 = 1.96\n",
      "\n",
      "Autocorrelation detected with these values:\n",
      "  start  = 19\n",
      "  lag    = 4\n",
      "  z      = 2.054161317910548\n",
      "  z_0025 = 1.96\n",
      "\n",
      "Autocorrelation detected with these values:\n",
      "  start  = 22\n",
      "  lag    = 1\n",
      "  z      = 2.4560494302033673\n",
      "  z_0025 = 1.96\n"
     ]
    }
   ],
   "source": [
    "nums = [\n",
    "    *[0.594, 0.928, 0.515, 0.055, 0.262, 0.797],\n",
    "    *[0.788, 0.442, 0.262, 0.797, 0.788, 0.442],\n",
    "    *[0.507, 0.351, 0.097, 0.798, 0.227, 0.127],\n",
    "    *[0.474, 0.825, 0.007, 0.182, 0.929, 0.852],\n",
    "]\n",
    "\n",
    "D = framework.Tests.ks(nums)\n",
    "D_alpha = 0.27\n",
    "\n",
    "print(f\"D = {D}\")\n",
    "print(f\"D_alpha = {D_alpha}\\n\")\n",
    "\n",
    "print(\n",
    "    \"Null hypothesis cannot be rejected. [Is uniform]\"\n",
    "    if D <= D_alpha\n",
    "    else \"Null hypothesis is rejected. [Is not uniform]\"\n",
    ")\n",
    "\n",
    "z_0025 = 1.96\n",
    "\n",
    "for start in range(len(nums)):\n",
    "    for lag in range(1, len(nums) - start):\n",
    "        z = framework.Tests.autoCorr(nums, start, lag)\n",
    "\n",
    "        if abs(z) > 1.96:\n",
    "            print(\"\\nAutocorrelation detected with these values:\")\n",
    "            print(f\"  start  = {start}\")\n",
    "            print(f\"  lag    = {lag}\")\n",
    "            print(f\"  z      = {z}\")\n",
    "            print(f\"  z_0025 = {z_0025}\")"
   ]
  },
  {
   "cell_type": "markdown",
   "metadata": {},
   "source": [
    "# Q2\n"
   ]
  },
  {
   "cell_type": "code",
   "execution_count": 30,
   "metadata": {},
   "outputs": [
    {
     "name": "stdout",
     "output_type": "stream",
     "text": [
      "Customer #1 service time: 40.10740459622229\n",
      "Customer #2 service time: 112.87262176995753\n",
      "Customer #3 service time: 22.082180094012145\n",
      "Customer #4 service time: 49.92902146183374\n"
     ]
    }
   ],
   "source": [
    "for i in range(4):\n",
    "    serviceTime = framework.RandomVariate.empirical(\n",
    "        nums=[14, 30, 45, 60, 90, 120, 180, 300],\n",
    "        frequencies=[10, 20, 25, 35, 30, 20, 10],\n",
    "    )\n",
    "\n",
    "    print(f\"Customer #{i+1} service time: {serviceTime}\")"
   ]
  },
  {
   "cell_type": "markdown",
   "metadata": {},
   "source": [
    "# Q3\n"
   ]
  },
  {
   "cell_type": "code",
   "execution_count": null,
   "metadata": {},
   "outputs": [
    {
     "name": "stdout",
     "output_type": "stream",
     "text": [
      "Randomly generated value for cusftomers' count: 102\n",
      "\n",
      "Arrival times:\n",
      "['8:02',\n",
      " '8:02',\n",
      " '8:07',\n",
      " '8:27',\n",
      " '8:30',\n",
      " '8:33',\n",
      " '8:41',\n",
      " '8:49',\n",
      " '8:57',\n",
      " '9:08',\n",
      " '9:13',\n",
      " '9:18',\n",
      " '9:27',\n",
      " '9:30',\n",
      " '9:30',\n",
      " '9:36',\n",
      " '9:37',\n",
      " '9:44',\n",
      " '9:59',\n",
      " '10:00',\n",
      " '10:01',\n",
      " '10:18',\n",
      " '10:18',\n",
      " '10:22',\n",
      " '10:23',\n",
      " '10:25',\n",
      " '10:26',\n",
      " '10:30',\n",
      " '10:31',\n",
      " '10:33',\n",
      " '10:42',\n",
      " '10:45',\n",
      " '10:47',\n",
      " '10:49',\n",
      " '10:51',\n",
      " '10:54',\n",
      " '11:08',\n",
      " '11:12',\n",
      " '11:14',\n",
      " '11:16',\n",
      " '11:22',\n",
      " '11:22',\n",
      " '11:37',\n",
      " '11:46',\n",
      " '11:52',\n",
      " '11:52',\n",
      " '12:00',\n",
      " '12:02',\n",
      " '12:05',\n",
      " '12:05',\n",
      " '12:05',\n",
      " '12:16',\n",
      " '12:28',\n",
      " '12:29',\n",
      " '12:30',\n",
      " '12:31',\n",
      " '12:31',\n",
      " '12:32',\n",
      " '12:33',\n",
      " '12:37',\n",
      " '12:39',\n",
      " '12:49',\n",
      " '12:50',\n",
      " '12:51',\n",
      " '13:07',\n",
      " '13:09',\n",
      " '13:17',\n",
      " '13:35',\n",
      " '13:47',\n",
      " '13:50',\n",
      " '13:57',\n",
      " '14:03',\n",
      " '14:13',\n",
      " '14:14',\n",
      " '14:21',\n",
      " '14:21',\n",
      " '14:23',\n",
      " '14:31',\n",
      " '14:34',\n",
      " '14:47',\n",
      " '14:55',\n",
      " '15:07',\n",
      " '15:11',\n",
      " '15:14',\n",
      " '15:17',\n",
      " '15:23',\n",
      " '15:30',\n",
      " '15:40',\n",
      " '15:45',\n",
      " '15:52',\n",
      " '15:57',\n",
      " '16:08',\n",
      " '16:12',\n",
      " '16:13',\n",
      " '16:14',\n",
      " '16:19',\n",
      " '16:20',\n",
      " '16:21',\n",
      " '16:22',\n",
      " '16:25',\n",
      " '16:26',\n",
      " '16:29']\n"
     ]
    }
   ],
   "source": [
    "def formatTime(time: float) -> str:\n",
    "    hour = math.floor(currentTime)\n",
    "    minutes = math.floor(60 * (currentTime - hour))\n",
    "\n",
    "    return f\"{hour}:{\"0\" if minutes < 10 else \"\"}{minutes}\"\n",
    "\n",
    "customersCount = framework.RandomVariate.poisson(mean=100)\n",
    "\n",
    "print(f\"Randomly generated value for cusftomers' count: {customersCount}\")\n",
    "\n",
    "currentTime = 8\n",
    "arrivalTimes = []\n",
    "\n",
    "for _ in range(customersCount):\n",
    "    interval = framework.RandomVariate.exponential(mean=8 / 100)\n",
    "    currentTime += interval\n",
    "\n",
    "    arrivalTimes.append(formatTime(currentTime))\n",
    "\n",
    "print(\"\\nArrival times:\")\n",
    "pp(arrivalTimes)"
   ]
  },
  {
   "cell_type": "markdown",
   "metadata": {},
   "source": [
    "# Q4\n"
   ]
  },
  {
   "cell_type": "code",
   "execution_count": null,
   "metadata": {},
   "outputs": [],
   "source": []
  },
  {
   "cell_type": "markdown",
   "metadata": {},
   "source": [
    "# Q5\n"
   ]
  },
  {
   "cell_type": "code",
   "execution_count": 35,
   "metadata": {},
   "outputs": [
    {
     "data": {
      "text/plain": [
       "<matplotlib.collections.PathCollection at 0x1c8432856d0>"
      ]
     },
     "execution_count": 35,
     "metadata": {},
     "output_type": "execute_result"
    },
    {
     "data": {
      "image/png": "[encoded data removed]",
      "text/plain": [
       "<Figure size 640x480 with 1 Axes>"
      ]
     },
     "metadata": {},
     "output_type": "display_data"
    }
   ],
   "source": [
    "a = sorted([19, 8, 6, 11, 24, 13])\n",
    "b = sorted([118, 55, 65, 251, 124, 120])\n",
    "\n",
    "plt.scatter(a, b)"
   ]
  },
  {
   "cell_type": "markdown",
   "metadata": {},
   "source": [
    "# Q6\n"
   ]
  },
  {
   "cell_type": "code",
   "execution_count": null,
   "metadata": {},
   "outputs": [
    {
     "name": "stdout",
     "output_type": "stream",
     "text": [
      "Randomly generated value for trucks' count: 9\n",
      "\n",
      "Loading times:\n",
      "[35.14, 34.42, 28.35, 39.93, 27.81, 33.26, 31.34, 29.52, 37.13]\n"
     ]
    }
   ],
   "source": [
    "trucksCount = framework.RandomVariate.discreteUniform(3, 9)\n",
    "\n",
    "print(f\"Randomly generated value for trucks' count: {trucksCount}\")\n",
    "\n",
    "loadingTimes = []\n",
    "\n",
    "for _ in range(trucksCount):\n",
    "    loadingTime = framework.RandomVariate.normal(mean=34, std=5)\n",
    "\n",
    "    loadingTimes.append(round(loadingTime, 2))\n",
    "\n",
    "print(\"\\nLoading times:\")\n",
    "print(loadingTimes)"
   ]
  }
 ],
 "metadata": {
  "kernelspec": {
   "display_name": "Python 3",
   "language": "python",
   "name": "python3"
  },
  "language_info": {
   "codemirror_mode": {
    "name": "ipython",
    "version": 3
   },
   "file_extension": ".py",
   "mimetype": "text/x-python",
   "name": "python",
   "nbconvert_exporter": "python",
   "pygments_lexer": "ipython3",
   "version": "3.12.2"
  }
 },
 "nbformat": 4,
 "nbformat_minor": 2
}
