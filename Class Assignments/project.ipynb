{
 "cells": [
  {
   "cell_type": "markdown",
   "metadata": {},
   "source": [
    "<div align=center>\n",
    "\n",
    "# Principles of Simulation:<br />Final Project\n",
    "\n",
    "By Hamed Araab & Shahriar Khalvati\n",
    "\n",
    "</div>\n"
   ]
  },
  {
   "cell_type": "markdown",
   "metadata": {},
   "source": [
    "### Prerequisites\n"
   ]
  },
  {
   "cell_type": "code",
   "execution_count": null,
   "metadata": {},
   "outputs": [],
   "source": [
    "import random\n",
    "import numpy as np\n",
    "import pandas as pd\n",
    "import seaborn as sns\n",
    "\n",
    "from framework import *"
   ]
  },
  {
   "cell_type": "markdown",
   "metadata": {},
   "source": [
    "### Visualzier\n",
    "💡 In oreder to run again, restart the notebook to remove variables."
   ]
  },
  {
   "cell_type": "code",
   "execution_count": 1,
   "metadata": {},
   "outputs": [
    {
     "name": "stdout",
     "output_type": "stream",
     "text": [
      "Eel server is running in a separate thread.\n"
     ]
    }
   ],
   "source": [
    "import threading\n",
    "import eel\n",
    "\n",
    "def run_eel():\n",
    "    eel.init(\"Visualizer\")\n",
    "\n",
    "\n",
    "    @eel.expose  # Expose this function to Javascript\n",
    "    def say_hello_py(x):\n",
    "        print(\"Hello from %s\" % x)\n",
    "\n",
    "\n",
    "    # eel.say_hello_js(\"Python World!\")  # Call a Javascript function\n",
    "\n",
    "    eel.start(\"index.html\", mode=None)  # Start (this blocks and enters loop)\n",
    "\n",
    "# Run eel in a separate thread\n",
    "eel_thread = threading.Thread(target=run_eel)\n",
    "eel_thread.start()\n",
    "\n",
    "# Continue with other cells in the notebook\n",
    "print(\"Eel server is running in a separate thread.\")"
   ]
  },
  {
   "cell_type": "code",
   "execution_count": 5,
   "metadata": {},
   "outputs": [
    {
     "data": {
      "text/plain": [
       "<function eel._call_return.<locals>.return_func(callback: Optional[Callable[..., Any]] = None, error_callback: Optional[Callable[..., Any]] = None) -> Any>"
      ]
     },
     "execution_count": 5,
     "metadata": {},
     "output_type": "execute_result"
    }
   ],
   "source": [
    "eel.initVisualizer(2,4)"
   ]
  },
  {
   "cell_type": "markdown",
   "metadata": {},
   "source": [
    "### Servers\n"
   ]
  },
  {
   "cell_type": "code",
   "execution_count": null,
   "metadata": {},
   "outputs": [],
   "source": [
    "class Doctor:\n",
    "    def __init__(self, controller) -> None:\n",
    "        self.controller = controller\n",
    "        self.status: Literal[\"available\", \"busy\"] = \"available\"\n",
    "\n",
    "\n",
    "class Examiner(Doctor):\n",
    "    pass\n",
    "\n",
    "\n",
    "class Physician(Doctor):\n",
    "    pass"
   ]
  },
  {
   "cell_type": "code",
   "execution_count": null,
   "metadata": {},
   "outputs": [],
   "source": [
    "class DoctorSelectionStrategy:\n",
    "    @staticmethod\n",
    "    def randomAvailable(doctors: List[Doctor]) -> Doctor:\n",
    "        selectedDoctor: Doctor | None = None\n",
    "\n",
    "        random.shuffle(doctors)\n",
    "\n",
    "        for doctor in doctors:\n",
    "            if doctor.status == \"available\":\n",
    "                selectedDoctor = doctor\n",
    "\n",
    "                break\n",
    "\n",
    "        return selectedDoctor"
   ]
  },
  {
   "cell_type": "markdown",
   "metadata": {},
   "source": [
    "### Patients\n"
   ]
  },
  {
   "cell_type": "code",
   "execution_count": null,
   "metadata": {},
   "outputs": [],
   "source": [
    "class Patient:\n",
    "    pass\n",
    "\n",
    "\n",
    "class HighPriorityPatient(Patient):\n",
    "    pass\n",
    "\n",
    "\n",
    "class LowPriorityPatient(Patient):\n",
    "    pass"
   ]
  },
  {
   "cell_type": "markdown",
   "metadata": {},
   "source": [
    "### Controller\n"
   ]
  },
  {
   "cell_type": "code",
   "execution_count": null,
   "metadata": {},
   "outputs": [],
   "source": [
    "class HospitalController(SimController):\n",
    "    def __init__(self, examinersCount=1, physiciansCount=1) -> None:\n",
    "        super().__init__(stopTime=32 * 24 * 60, initialEvent=ArrivalEvent(initial=True))\n",
    "\n",
    "        self.treatedPatients: List[Patient] = []\n",
    "        self.highPriorityExaminationQueue: List[HighPriorityPatient] = []\n",
    "        self.lowPriorityExaminationQueue: List[LowPriorityPatient] = []\n",
    "        self.treatmentQueue: List[Patient] = []\n",
    "\n",
    "        self.examiners: List[Examiner] = [\n",
    "            Examiner(controller=self) for i in range(1, examinersCount + 1)\n",
    "        ]\n",
    "\n",
    "        self.physicians: List[Physician] = [\n",
    "            Physician(controller=self) for i in range(1, physiciansCount + 1)\n",
    "        ]"
   ]
  },
  {
   "cell_type": "markdown",
   "metadata": {},
   "source": [
    "### Events\n"
   ]
  },
  {
   "cell_type": "markdown",
   "metadata": {},
   "source": [
    "#### Arrival\n"
   ]
  },
  {
   "cell_type": "code",
   "execution_count": null,
   "metadata": {},
   "outputs": [],
   "source": [
    "ARRIVAL_EVENT_INTERVAL: Callable[[], float] | None = None\n",
    "\n",
    "\n",
    "class ArrivalEvent(SimEvent[HospitalController]):\n",
    "    def __init__(self, initial: bool = False) -> None:\n",
    "        super().__init__(interval=0 if initial else ARRIVAL_EVENT_INTERVAL())\n",
    "\n",
    "        self.patient = (\n",
    "            LowPriorityPatient() if random.random() > 0.15 else HighPriorityPatient()\n",
    "        )\n",
    "\n",
    "    def trigger(self) -> None:\n",
    "        self.controller.dispatchEvent(ArrivalEvent())\n",
    "\n",
    "        appropriateQueue = (\n",
    "            self.controller.highPriorityExaminationQueue\n",
    "            if self.patient is HighPriorityPatient\n",
    "            else self.controller.lowPriorityExaminationQueue\n",
    "        )\n",
    "\n",
    "        selectedExaminer = DoctorSelectionStrategy.randomAvailable(\n",
    "            self.controller.examiners\n",
    "        )\n",
    "\n",
    "        if appropriateQueue or not selectedExaminer:\n",
    "            appropriateQueue.append(self.patient)\n",
    "        else:\n",
    "            selectedExaminer.status = \"busy\"\n",
    "\n",
    "            self.controller.dispatchEvent(\n",
    "                ExaminationFinishEvent(patient=self.patient, examiner=selectedExaminer)\n",
    "            )"
   ]
  },
  {
   "cell_type": "markdown",
   "metadata": {},
   "source": [
    "#### Examination Finish\n"
   ]
  },
  {
   "cell_type": "code",
   "execution_count": null,
   "metadata": {},
   "outputs": [],
   "source": [
    "EXAMINATION_FINISH_EVENT_INTERVAL: Callable[[Patient], float] | None = None\n",
    "\n",
    "\n",
    "class ExaminationFinishEvent(SimEvent[HospitalController]):\n",
    "    def __init__(self, patient: Patient, examiner: Examiner) -> None:\n",
    "        super().__init__(interval=EXAMINATION_FINISH_EVENT_INTERVAL(patient))\n",
    "\n",
    "        self.patient = patient\n",
    "        self.examiner = examiner\n",
    "\n",
    "    def trigger(self) -> None:\n",
    "        selectedPhysician = DoctorSelectionStrategy.randomAvailable(\n",
    "            self.controller.physicians\n",
    "        )\n",
    "\n",
    "        if self.controller.treatmentQueue or not selectedPhysician:\n",
    "            self.controller.treatmentQueue.append(self.patient)\n",
    "        else:\n",
    "            selectedPhysician.status = \"busy\"\n",
    "\n",
    "            self.controller.dispatchEvent(\n",
    "                TreatmentFinishEvent(patient=self.patient, physician=selectedPhysician)\n",
    "            )\n",
    "\n",
    "        if self.controller.highPriorityExaminationQueue:\n",
    "            patient = self.controller.highPriorityExaminationQueue.pop(0)\n",
    "        elif self.controller.lowPriorityExaminationQueue:\n",
    "            patient = self.controller.lowPriorityExaminationQueue.pop(0)\n",
    "        else:\n",
    "            patient = None\n",
    "\n",
    "        if patient:\n",
    "            self.controller.dispatchEvent(\n",
    "                ExaminationFinishEvent(patient=patient, examiner=self.examiner)\n",
    "            )\n",
    "        else:\n",
    "            self.examiner.status = \"available\""
   ]
  },
  {
   "cell_type": "markdown",
   "metadata": {},
   "source": [
    "#### Treatment Finish\n"
   ]
  },
  {
   "cell_type": "code",
   "execution_count": null,
   "metadata": {},
   "outputs": [],
   "source": [
    "TREATMENT_FINISH_EVENT_INTERVAL: Callable[[Patient], float] | None = None\n",
    "\n",
    "\n",
    "class TreatmentFinishEvent(SimEvent[HospitalController]):\n",
    "    def __init__(self, patient: Patient, physician: Physician) -> None:\n",
    "        super().__init__(interval=TREATMENT_FINISH_EVENT_INTERVAL(patient))\n",
    "\n",
    "        self.patient = patient\n",
    "        self.physician = physician\n",
    "\n",
    "    def trigger(self) -> None:\n",
    "        self.controller.treatedPatients.append(self.patient)\n",
    "\n",
    "        patient = (\n",
    "            self.controller.treatmentQueue.pop(0)\n",
    "            if self.controller.treatmentQueue\n",
    "            else None\n",
    "        )\n",
    "\n",
    "        if patient:\n",
    "            self.controller.dispatchEvent(\n",
    "                TreatmentFinishEvent(patient=patient, physician=self.physician)\n",
    "            )\n",
    "        else:\n",
    "            self.physician.status = \"available\""
   ]
  },
  {
   "cell_type": "code",
   "execution_count": null,
   "metadata": {},
   "outputs": [],
   "source": [
    "def positivieRandomNormal(mu, sigma):\n",
    "    num = np.random.normal(mu, sigma)\n",
    "\n",
    "    if num > 0:\n",
    "        return num\n",
    "\n",
    "    return positivieRandomNormal(mu, sigma)"
   ]
  },
  {
   "cell_type": "code",
   "execution_count": null,
   "metadata": {},
   "outputs": [],
   "source": [
    "ARRIVAL_EVENT_INTERVAL = lambda: positivieRandomNormal(20, 4)\n",
    "\n",
    "EXAMINATION_FINISH_EVENT_INTERVAL = lambda patient: (\n",
    "    positivieRandomNormal(30, 5)\n",
    "    if patient is HighPriorityPatient\n",
    "    else positivieRandomNormal(15, 10)\n",
    ")\n",
    "\n",
    "TREATMENT_FINISH_EVENT_INTERVAL = lambda patient: (\n",
    "    positivieRandomNormal(28, 13)\n",
    "    if patient is HighPriorityPatient\n",
    "    else positivieRandomNormal(10, 7)\n",
    ")"
   ]
  }
 ],
 "metadata": {
  "kernelspec": {
   "display_name": "Python 3",
   "language": "python",
   "name": "python3"
  },
  "language_info": {
   "codemirror_mode": {
    "name": "ipython",
    "version": 3
   },
   "file_extension": ".py",
   "mimetype": "text/x-python",
   "name": "python",
   "nbconvert_exporter": "python",
   "pygments_lexer": "ipython3",
   "version": "3.12.2"
  }
 },
 "nbformat": 4,
 "nbformat_minor": 2
}
