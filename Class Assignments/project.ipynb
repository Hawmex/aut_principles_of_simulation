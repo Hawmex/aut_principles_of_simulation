{
 "cells": [
  {
   "cell_type": "markdown",
   "metadata": {},
   "source": [
    "<div align=center>\n",
    "\n",
    "# **_Principles of Simulation_**\n",
    "\n",
    "## **Final Project**\n",
    "\n",
    "By Hamed Araab & Shahriar Khalvati\n",
    "\n",
    "</div>\n"
   ]
  },
  {
   "cell_type": "markdown",
   "metadata": {},
   "source": [
    "### Prerequisites\n",
    "\n",
    "In this section, we import necessary libraries and modules required for the\n",
    "execution of subsequent code cells:\n"
   ]
  },
  {
   "cell_type": "code",
   "execution_count": null,
   "metadata": {},
   "outputs": [],
   "source": [
    "import random\n",
    "import pandas as pd\n",
    "import seaborn as sns\n",
    "\n",
    "from framework import *"
   ]
  },
  {
   "cell_type": "markdown",
   "metadata": {},
   "source": [
    "### Servers\n",
    "\n",
    "Doctors are servers. Two types of doctors are availables.\n"
   ]
  },
  {
   "cell_type": "code",
   "execution_count": 3,
   "metadata": {},
   "outputs": [
    {
     "data": {
      "text/plain": [
       "1"
      ]
     },
     "execution_count": 3,
     "metadata": {},
     "output_type": "execute_result"
    }
   ],
   "source": [
    "class Doctor:\n",
    "    def __init__(self, controller) -> None:\n",
    "        self.controller = controller\n",
    "        self.status: Literal[\"available\", \"busy\"] = \"available\"\n",
    "\n",
    "class Examiner(Doctor):\n",
    "    pass\n",
    "\n",
    "class Physician(Doctor):\n",
    "    pass"
   ]
  },
  {
   "cell_type": "code",
   "execution_count": null,
   "metadata": {},
   "outputs": [],
   "source": [
    "class DoctorSelectionStrategy:\n",
    "    @staticmethod\n",
    "    def randomAvailable(doctors: List[Doctor]) -> Doctor:\n",
    "        doctors = doctors.copy()\n",
    "        selectedDoctor: Doctor | None = None\n",
    "\n",
    "        random.shuffle(doctors)\n",
    "\n",
    "        for doctor in doctors:\n",
    "            if doctor.status == \"available\":\n",
    "                selectedDoctor = doctor\n",
    "\n",
    "                break\n",
    "\n",
    "        return selectedDoctor"
   ]
  },
  {
   "cell_type": "code",
   "execution_count": null,
   "metadata": {},
   "outputs": [],
   "source": [
    "class Patient:\n",
    "    pass\n",
    "\n",
    "class HighPriorityPatient(Patient):\n",
    "    pass\n",
    "\n",
    "class LowPriorityPatient(Patient):\n",
    "    pass"
   ]
  },
  {
   "cell_type": "code",
   "execution_count": null,
   "metadata": {},
   "outputs": [],
   "source": [
    "class HospitalController(SimController):\n",
    "    def __init__(self, examinersCount=1, physiciansCount=1) -> None:\n",
    "        super().__init__(stopTime=32 * 24 * 60, initialEvent=ArrivalEvent(initial=True))\n",
    "        self.treatedPatients: List[Patient] = []\n",
    "        self.highPriorityExaminationQueue: List[HighPriorityPatient] = []\n",
    "        self.lowPriorityExaminationQueue: List[LowPriorityPatient] = []\n",
    "        self.treatmentQueue: List[Patient] = []\n",
    "\n",
    "        self.examiners: List[Examiner] = [\n",
    "            Examiner(controller=self)\n",
    "            for i in range(1, examinersCount + 1)\n",
    "        ]\n",
    "\n",
    "        self.physicians: List[Physician] = [\n",
    "            Physician(controller=self)\n",
    "            for i in range(1, physiciansCount + 1)\n",
    "        ]"
   ]
  },
  {
   "cell_type": "code",
   "execution_count": null,
   "metadata": {},
   "outputs": [],
   "source": [
    "ARRIVAL_EVENT_INTERVAL: Callable[[], float] | None = None\n",
    "\n",
    "\n",
    "class ArrivalEvent(SimEvent[HospitalController]):\n",
    "    def __init__(self, initial: bool = False) -> None:\n",
    "        super().__init__(0 if initial else ARRIVAL_EVENT_INTERVAL())\n",
    "\n",
    "        self.patient = (\n",
    "            LowPriorityPatient()\n",
    "            if random.random() > 0.15\n",
    "            else HighPriorityPatient()\n",
    "        )\n",
    "\n",
    "    def trigger(self) -> None:\n",
    "        self.controller.dispatchEvent(ArrivalEvent())\n",
    "\n",
    "        appropriateQueue = (\n",
    "            self.controller.highPriorityExaminationQueue\n",
    "            if self.patient is HighPriorityPatient\n",
    "            else self.controller.lowPriorityExaminationQueue\n",
    "        )\n",
    "\n",
    "        selectedExaminer = DoctorSelectionStrategy.randomAvailable(self.controller.examiners)\n",
    "\n",
    "        if appropriateQueue or not selectedExaminer:\n",
    "            appropriateQueue.append(self.patient)\n",
    "        else:\n",
    "            selectedExaminer.status = \"busy\"\n",
    "                \n",
    "            self.controller.dispatchEvent(\n",
    "                ExaminationFinishEvent(\n",
    "                    patient=self.patient,\n",
    "                    examiner=selectedExaminer,\n",
    "                )\n",
    "            )"
   ]
  },
  {
   "cell_type": "code",
   "execution_count": null,
   "metadata": {},
   "outputs": [],
   "source": [
    "EXAMINATION_FINISH_EVENT_INTERVAL: Callable[[], float] | None = None\n",
    "\n",
    "\n",
    "class ExaminationFinishEvent(SimEvent[HospitalController]):\n",
    "    def __init__(self, patient: Patient, examiner: Examiner) -> None:\n",
    "        super().__init__()\n",
    "\n",
    "        self.patient = patient\n",
    "        self.examiner = examiner\n",
    "\n",
    "    def trigger(self) -> None:\n",
    "        selectedPhysician = DoctorSelectionStrategy.randomAvailable(self.controller.physicians)\n",
    "\n",
    "        if self.controller.treatmentQueue or not selectedPhysician:\n",
    "            self.controller.treatmentQueue.append(self.patient)\n",
    "        else:\n",
    "            selectedPhysician.status = \"busy\"\n",
    "\n",
    "            self.controller.dispatchEvent(\n",
    "                TreatmentFinishEvent(\n",
    "                    patient=self.patient,\n",
    "                    physician=selectedPhysician,\n",
    "                )\n",
    "            )\n",
    "\n",
    "        if self.controller.highPriorityExaminationQueue:\n",
    "            patient = self.controller.highPriorityExaminationQueue.pop(0)\n",
    "        elif self.controller.lowPriorityExaminationQueue:\n",
    "            patient = self.controller.lowPriorityExaminationQueue.pop(0)\n",
    "        else:\n",
    "            patient = None\n",
    "\n",
    "        if patient:\n",
    "            self.controller.dispatchEvent(\n",
    "                ExaminationFinishEvent(\n",
    "                    patient=patient,\n",
    "                    examiner=self.examiner,\n",
    "                )\n",
    "            )\n",
    "        else:\n",
    "            self.examiner.status = \"available\""
   ]
  },
  {
   "cell_type": "code",
   "execution_count": null,
   "metadata": {},
   "outputs": [],
   "source": [
    "TREATMENT_FINISH_EVENT_INTERVAL: Callable[[], float] | None = None\n",
    "\n",
    "\n",
    "class TreatmentFinishEvent(SimEvent[HospitalController]):\n",
    "    def __init__(self, patient: Patient, physician: Physician) -> None:\n",
    "        super().__init__()\n",
    "\n",
    "        self.patient = patient\n",
    "        self.physician = physician\n",
    "\n",
    "    def trigger(self) -> None:\n",
    "        self.controller.treatedPatients.append(self.patient)\n",
    "\n",
    "        patient = (\n",
    "            self.controller.treatmentQueue.pop(0)\n",
    "            if self.controller.treatmentQueue\n",
    "            else None\n",
    "        )\n",
    "\n",
    "        if patient:\n",
    "            self.controller.dispatchEvent(\n",
    "                TreatmentFinishEvent(\n",
    "                    patient=patient,\n",
    "                    physician=self.physician,\n",
    "                )\n",
    "            )\n",
    "        else:\n",
    "            self.physician.status = \"available\""
   ]
  }
 ],
 "metadata": {
  "kernelspec": {
   "display_name": "Python 3",
   "language": "python",
   "name": "python3"
  },
  "language_info": {
   "codemirror_mode": {
    "name": "ipython",
    "version": 3
   },
   "file_extension": ".py",
   "mimetype": "text/x-python",
   "name": "python",
   "nbconvert_exporter": "python",
   "pygments_lexer": "ipython3",
   "version": "3.12.3"
  }
 },
 "nbformat": 4,
 "nbformat_minor": 2
}
