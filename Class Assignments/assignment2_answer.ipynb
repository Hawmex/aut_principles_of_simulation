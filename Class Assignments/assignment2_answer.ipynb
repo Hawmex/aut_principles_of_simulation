{
 "cells": [
  {
   "cell_type": "markdown",
   "metadata": {},
   "source": [
    "<div align=center>\n",
    "\n",
    "# Principles of Simulation: Assignment 2\n",
    "\n",
    "By Hamed Araab & Shahriar Khalvati\n",
    "\n",
    "</div>\n"
   ]
  },
  {
   "cell_type": "markdown",
   "metadata": {},
   "source": [
    "### Prerequisites\n",
    "\n",
    "In this section, we import necessary libraries and modules required for the\n",
    "execution of subsequent code cells:\n"
   ]
  },
  {
   "cell_type": "code",
   "execution_count": 708,
   "metadata": {},
   "outputs": [],
   "source": [
    "import random\n",
    "import pandas as pd\n",
    "import seaborn as sns\n",
    "\n",
    "from framework import *\n",
    "from __future__ import annotations"
   ]
  },
  {
   "cell_type": "markdown",
   "metadata": {},
   "source": [
    "### Problem 1"
   ]
  },
  {
   "cell_type": "code",
   "execution_count": null,
   "metadata": {},
   "outputs": [],
   "source": []
  },
  {
   "cell_type": "markdown",
   "metadata": {},
   "source": [
    "### Problem 2"
   ]
  },
  {
   "cell_type": "markdown",
   "metadata": {},
   "source": [
    "#### Customer\n"
   ]
  },
  {
   "cell_type": "code",
   "execution_count": 709,
   "metadata": {},
   "outputs": [],
   "source": [
    "class Customer:\n",
    "    def __init__(self) -> None:\n",
    "        self.systemArrival: float\n",
    "        self.server: Server | None = None\n",
    "        self.serverArrival: float | None = None\n",
    "        self.serviceTime: float | None = None\n",
    "        self.departure: float\n",
    "\n",
    "    @property\n",
    "    def didReturn(self) -> bool:\n",
    "        return (\n",
    "            self.server == None\n",
    "            and self.serverArrival == None\n",
    "            and self.serviceTime == None\n",
    "        )\n",
    "\n",
    "    @property\n",
    "    def didWaitOutside(self) -> bool:\n",
    "        return self.waitingTime[\"outside\"] not in [None, 0]\n",
    "\n",
    "    @property\n",
    "    def waitingTime(self) -> Dict[Literal[\"outside\", \"inside\"], None | float]:\n",
    "        return {\n",
    "            \"outside\": (\n",
    "                None if self.didReturn else self.serverArrival - self.systemArrival\n",
    "            ),\n",
    "            \"inside\": (\n",
    "                None\n",
    "                if self.didReturn\n",
    "                else self.departure - self.serviceTime - self.serverArrival\n",
    "            ),\n",
    "        }"
   ]
  },
  {
   "cell_type": "markdown",
   "metadata": {},
   "source": [
    "#### Server\n"
   ]
  },
  {
   "cell_type": "code",
   "execution_count": 710,
   "metadata": {},
   "outputs": [],
   "source": [
    "class Server:\n",
    "    def __init__(self, id: int, controller: ProblemController) -> None:\n",
    "        self.id = id\n",
    "        self.controller = controller\n",
    "        self.status: Literal[\"available\", \"busy\"] = \"available\"\n",
    "        self.queue: List[Customer] = []\n",
    "\n",
    "    @property\n",
    "    def customersServed(self) -> List[Customer]:\n",
    "        return [\n",
    "            customer\n",
    "            for customer in self.controller.customersServed\n",
    "            if customer.server == self\n",
    "        ]\n",
    "\n",
    "    @property\n",
    "    def utilizationPercentage(self) -> float:\n",
    "        return (\n",
    "            sum(customer.serviceTime for customer in self.customersServed)\n",
    "            / self.controller.clock\n",
    "        )\n",
    "\n",
    "    @property\n",
    "    def totalCustomersServed(self) -> int:\n",
    "        return len(self.customersServed)\n",
    "\n",
    "    @property\n",
    "    def averageServiceTime(self) -> float:\n",
    "        return sum(customer.serviceTime for customer in self.customersServed) / len(\n",
    "            self.customersServed\n",
    "        )\n",
    "\n",
    "    @property\n",
    "    def averageWaitingTime(self) -> float:\n",
    "        return sum(\n",
    "            customer.waitingTime[\"inside\"] for customer in self.customersServed\n",
    "        ) / len(self.customersServed)"
   ]
  },
  {
   "cell_type": "markdown",
   "metadata": {},
   "source": [
    "#### Controller\n"
   ]
  },
  {
   "cell_type": "code",
   "execution_count": 711,
   "metadata": {},
   "outputs": [],
   "source": [
    "class ProblemController(SimController):\n",
    "    def __init__(self, waitOutside: bool) -> None:\n",
    "        super().__init__(stopTime=3 * 60, initialEvent=ArrivalEvent(initial=True))\n",
    "        self.totalCustomersArrived: int = 0\n",
    "        self.customersServed: List[Customer] = []\n",
    "        self.outsideQueue: List[Customer] = []\n",
    "        self.servers: List[Server] = [Server(i, controller=self) for i in range(1, 4)]\n",
    "        self.waitOutside = waitOutside\n",
    "\n",
    "    def simulate(self) -> Dict[str, float]:\n",
    "        super().simulate()\n",
    "\n",
    "        customersWaitedOutside = [\n",
    "            customer for customer in self.customersServed if customer.didWaitOutside\n",
    "        ]\n",
    "\n",
    "        results = {\n",
    "            \"TCA\": self.totalCustomersArrived,\n",
    "            f\"TCWO\": len(customersWaitedOutside),\n",
    "            f\"AWTO\": (\n",
    "                sum(\n",
    "                    customer.waitingTime[\"outside\"]\n",
    "                    for customer in customersWaitedOutside\n",
    "                )\n",
    "                / len(customersWaitedOutside)\n",
    "                if customersWaitedOutside\n",
    "                else 0\n",
    "            ),\n",
    "        }\n",
    "\n",
    "        for server in self.servers:\n",
    "            results |= {\n",
    "                f\"UP{server.id}\": server.utilizationPercentage,\n",
    "                f\"TCS{server.id}\": server.totalCustomersServed,\n",
    "                f\"AST{server.id}\": server.averageServiceTime,\n",
    "                f\"AWTI{server.id}\": server.averageWaitingTime,\n",
    "            }\n",
    "\n",
    "        return results"
   ]
  },
  {
   "cell_type": "markdown",
   "metadata": {},
   "source": [
    "#### Event\n"
   ]
  },
  {
   "cell_type": "markdown",
   "metadata": {},
   "source": [
    "##### Arrival"
   ]
  },
  {
   "cell_type": "code",
   "execution_count": 712,
   "metadata": {},
   "outputs": [],
   "source": [
    "ARRIVAL_EVENT_INTERVAL: Callable[[], float] | None = None\n",
    "\n",
    "\n",
    "class ArrivalEvent(SimEvent[ProblemController]):\n",
    "    def __init__(self, initial: bool = False) -> None:\n",
    "        super().__init__(0 if initial else ARRIVAL_EVENT_INTERVAL())\n",
    "\n",
    "        self.customer = Customer()\n",
    "\n",
    "    def trigger(self) -> None:\n",
    "        self.controller.dispatchEvent(ArrivalEvent())\n",
    "\n",
    "        self.customer.systemArrival = self.dueTime\n",
    "        self.controller.totalCustomersArrived += 1\n",
    "\n",
    "        if self.controller.outsideQueue:\n",
    "            if self.controller.waitOutside:\n",
    "                self.controller.outsideQueue.append(self.customer)\n",
    "            else:\n",
    "                self.customer.departure = self.dueTime\n",
    "        else:\n",
    "            server = min(self.controller.servers, key=lambda server: len(server.queue))\n",
    "\n",
    "            if len(server.queue) + int(server.status == \"busy\") < 4:\n",
    "                self.customer.server = server\n",
    "                self.customer.serverArrival = self.dueTime\n",
    "\n",
    "                if server.status == \"available\":\n",
    "                    server.status = \"busy\"\n",
    "\n",
    "                    self.controller.dispatchEvent(DepartureEvent(self.customer))\n",
    "                else:\n",
    "                    server.queue.append(self.customer)\n",
    "            elif self.controller.waitOutside:\n",
    "                self.controller.outsideQueue.append(self.customer)"
   ]
  },
  {
   "cell_type": "markdown",
   "metadata": {},
   "source": [
    "##### Departure\n"
   ]
  },
  {
   "cell_type": "code",
   "execution_count": 713,
   "metadata": {},
   "outputs": [],
   "source": [
    "DEPARTURE_EVENT_INTERVAL: Callable[[], float] | None = None\n",
    "\n",
    "\n",
    "class DepartureEvent(SimEvent[ProblemController]):\n",
    "    def __init__(self, customer: Customer) -> None:\n",
    "        super().__init__(DEPARTURE_EVENT_INTERVAL())\n",
    "\n",
    "        self.customer = customer\n",
    "\n",
    "    def trigger(self) -> None:\n",
    "        self.customer.serviceTime = self.interval\n",
    "        self.customer.departure = self.dueTime\n",
    "\n",
    "        self.controller.customersServed.append(self.customer)\n",
    "\n",
    "        if self.customer.server.queue:\n",
    "            customer = self.customer.server.queue.pop(0)\n",
    "\n",
    "            self.controller.dispatchEvent(DepartureEvent(customer))\n",
    "\n",
    "            if self.controller.outsideQueue:\n",
    "                customer = self.controller.outsideQueue.pop(0)\n",
    "                customer.server = self.customer.server\n",
    "                customer.serverArrival = self.dueTime\n",
    "\n",
    "                self.customer.server.queue.append(customer)\n",
    "        else:\n",
    "            self.customer.server.status = \"available\""
   ]
  },
  {
   "cell_type": "markdown",
   "metadata": {},
   "source": [
    "#### Results"
   ]
  },
  {
   "cell_type": "code",
   "execution_count": 714,
   "metadata": {},
   "outputs": [
    {
     "data": {
      "text/plain": [
       "TCA      180.853000\n",
       "TCWO       0.198000\n",
       "AWTO       0.010431\n",
       "UP1        0.995473\n",
       "TCS1      71.503000\n",
       "AST1       2.500833\n",
       "AWTI1      2.142243\n",
       "UP2        0.935685\n",
       "TCS2      67.261000\n",
       "AST2       2.498847\n",
       "AWTI2      1.466758\n",
       "UP3        0.527708\n",
       "TCS3      37.934000\n",
       "AST3       2.498701\n",
       "AWTI3      0.982094\n",
       "dtype: float64"
      ]
     },
     "execution_count": 714,
     "metadata": {},
     "output_type": "execute_result"
    }
   ],
   "source": [
    "ARRIVAL_EVENT_INTERVAL = lambda: DistributionFunction.uniform(0, 2)\n",
    "DEPARTURE_EVENT_INTERVAL = lambda: DistributionFunction.uniform(2, 3)\n",
    "\n",
    "allResults: List[Dict[str, float]] = []\n",
    "\n",
    "for i in range(1000):\n",
    "    results = ProblemController(waitOutside=True).simulate()\n",
    "\n",
    "    allResults.append(results)\n",
    "\n",
    "pd.DataFrame(allResults).mean(axis=0)"
   ]
  },
  {
   "cell_type": "code",
   "execution_count": 715,
   "metadata": {},
   "outputs": [
    {
     "data": {
      "text/plain": [
       "TCA      180.911000\n",
       "TCWO       0.000000\n",
       "AWTO       0.000000\n",
       "UP1        0.995117\n",
       "TCS1      71.556000\n",
       "AST1       2.498060\n",
       "AWTI1      2.117780\n",
       "UP2        0.935089\n",
       "TCS2      67.213000\n",
       "AST2       2.498974\n",
       "AWTI2      1.449125\n",
       "UP3        0.527214\n",
       "TCS3      37.890000\n",
       "AST3       2.499060\n",
       "AWTI3      0.965656\n",
       "dtype: float64"
      ]
     },
     "execution_count": 715,
     "metadata": {},
     "output_type": "execute_result"
    }
   ],
   "source": [
    "ARRIVAL_EVENT_INTERVAL = lambda: DistributionFunction.uniform(0, 2)\n",
    "DEPARTURE_EVENT_INTERVAL = lambda: DistributionFunction.uniform(2, 3)\n",
    "\n",
    "allResults: List[Dict[str, float]] = []\n",
    "\n",
    "for i in range(1000):\n",
    "    results = ProblemController(waitOutside=False).simulate()\n",
    "\n",
    "    allResults.append(results)\n",
    "\n",
    "pd.DataFrame(allResults).mean(axis=0)"
   ]
  },
  {
   "cell_type": "markdown",
   "metadata": {},
   "source": [
    "### Problem 3"
   ]
  },
  {
   "cell_type": "code",
   "execution_count": null,
   "metadata": {},
   "outputs": [],
   "source": []
  }
 ],
 "metadata": {
  "kernelspec": {
   "display_name": "Python 3",
   "language": "python",
   "name": "python3"
  },
  "language_info": {
   "codemirror_mode": {
    "name": "ipython",
    "version": 3
   },
   "file_extension": ".py",
   "mimetype": "text/x-python",
   "name": "python",
   "nbconvert_exporter": "python",
   "pygments_lexer": "ipython3",
   "version": "3.12.2"
  }
 },
 "nbformat": 4,
 "nbformat_minor": 2
}
