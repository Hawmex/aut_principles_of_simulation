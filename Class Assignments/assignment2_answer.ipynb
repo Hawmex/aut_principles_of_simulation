{
 "cells": [
  {
   "cell_type": "markdown",
   "metadata": {},
   "source": [
    "<div align=center>\n",
    "\n",
    "# Principles of Simulation: Assignment 2\n",
    "\n",
    "By Hamed Araab & Shahriar Khalvati\n",
    "\n",
    "</div>\n"
   ]
  },
  {
   "cell_type": "markdown",
   "metadata": {},
   "source": [
    "### Prerequisites\n",
    "\n",
    "In this section, we import necessary libraries and modules required for the\n",
    "execution of subsequent code cells:\n"
   ]
  },
  {
   "cell_type": "code",
   "execution_count": 7,
   "metadata": {},
   "outputs": [],
   "source": [
    "import pandas as pd\n",
    "import seaborn as sns\n",
    "\n",
    "from framework import *\n",
    "from __future__ import annotations"
   ]
  },
  {
   "cell_type": "markdown",
   "metadata": {},
   "source": [
    "### Problem 1\n"
   ]
  },
  {
   "cell_type": "code",
   "execution_count": 8,
   "metadata": {},
   "outputs": [],
   "source": [
    "import Framework.tests.ks as ks\n",
    "import Framework.generators.clcg as clcg"
   ]
  },
  {
   "cell_type": "markdown",
   "metadata": {},
   "source": [
    "#### Generating Random Numbers"
   ]
  },
  {
   "cell_type": "code",
   "execution_count": 31,
   "metadata": {},
   "outputs": [
    {
     "name": "stdout",
     "output_type": "stream",
     "text": [
      "[9.69048842e-01 3.16159153e-01 7.43928545e-01 3.67945986e-01\n",
      " 2.80683503e-01 7.96741764e-01 7.83014528e-01 5.64475673e-01\n",
      " 1.01340480e-01 9.27737312e-01 6.78031714e-01 8.40256060e-01\n",
      " 7.23180576e-01 8.94060566e-01 3.47393303e-01 8.90099968e-02\n",
      " 5.64124458e-04 8.13442001e-01 1.99783265e-01 4.98598853e-01\n",
      " 9.54490245e-01 2.50797580e-01 9.37361542e-01 6.88365781e-01\n",
      " 9.11823836e-03 1.31545567e-01 3.14594859e-01 9.71595972e-01\n",
      " 6.80245758e-01 5.98350869e-01 8.80531175e-01 1.85077110e-01\n",
      " 8.67908080e-01 3.75178611e-01 9.30630419e-01 4.99161143e-01\n",
      " 5.73323282e-01 1.06487129e-02 9.30023350e-01 8.86840764e-01\n",
      " 1.45101030e-01 4.01228311e-01 6.53251077e-01 1.48873890e-01\n",
      " 2.88717964e-01 7.28832617e-01 5.17117139e-01 3.50560020e-02\n",
      " 5.33980690e-01 7.37216522e-01 5.22122969e-01 9.71268103e-01\n",
      " 1.25058857e-02 6.75854856e-01 8.22606781e-01 2.32998934e-02\n",
      " 3.47229811e-01 2.76032557e-01 7.76510823e-01 2.36869483e-01\n",
      " 8.66096217e-01 3.40070480e-01 6.97754811e-01 8.20444110e-01\n",
      " 3.69652941e-01 4.43213223e-01 7.74841887e-01 7.51282913e-01\n",
      " 5.94631129e-01 1.57978803e-01 5.12183244e-01 8.42404289e-01\n",
      " 3.83346136e-01 5.85315786e-02 4.65015768e-01 7.05917366e-02\n",
      " 2.44149668e-03 9.22642363e-01 3.94997515e-02 1.81717443e-01\n",
      " 3.25604652e-01 8.50021193e-01 9.98495484e-01 5.32185457e-01\n",
      " 7.68541654e-01 4.09716431e-01 1.71499247e-01 4.95828251e-01\n",
      " 8.42367409e-01 9.82933451e-02 3.82107481e-01 9.16106997e-01\n",
      " 5.43397088e-01 3.47519670e-01 5.40900026e-01 7.99885626e-01\n",
      " 8.22349003e-01 1.96415295e-01 2.06886647e-01 2.75759856e-01]\n"
     ]
    }
   ],
   "source": [
    "a1 = 40014\n",
    "m1 = 2147483563\n",
    "a2 = 40692\n",
    "m2 = 2147483399\n",
    "\n",
    "randomNumbers = clcg.generate(a1, m1, a2, m2, int(1e9))\n",
    "\n",
    "print(randomNumbers[:100])"
   ]
  },
  {
   "cell_type": "markdown",
   "metadata": {},
   "source": [
    "#### Checking Uniformity"
   ]
  },
  {
   "cell_type": "markdown",
   "metadata": {},
   "source": [
    "##### Kolmogorov-Smirnov Test"
   ]
  },
  {
   "cell_type": "code",
   "execution_count": 33,
   "metadata": {},
   "outputs": [
    {
     "name": "stdout",
     "output_type": "stream",
     "text": [
      "True\n"
     ]
    }
   ],
   "source": [
    "alpha = 0.05\n",
    "isUniformKS = ks.isUniform(randomNumbers[:100], alpha)\n",
    "print(isUniformKS)"
   ]
  },
  {
   "cell_type": "markdown",
   "metadata": {},
   "source": [
    "##### Chi-square Test"
   ]
  },
  {
   "cell_type": "markdown",
   "metadata": {},
   "source": [
    "#### Checking Independency"
   ]
  },
  {
   "cell_type": "markdown",
   "metadata": {},
   "source": [
    "### Problem 2\n"
   ]
  },
  {
   "cell_type": "markdown",
   "metadata": {},
   "source": [
    "#### Customer\n"
   ]
  },
  {
   "cell_type": "code",
   "execution_count": 26,
   "metadata": {},
   "outputs": [],
   "source": [
    "class Customer:\n",
    "    def __init__(self) -> None:\n",
    "        self.systemArrival: float\n",
    "        self.server: Server | None = None\n",
    "        self.serverArrival: float | None = None\n",
    "        self.serviceTime: float | None = None\n",
    "        self.departure: float\n",
    "\n",
    "    @property\n",
    "    def didReturn(self) -> bool:\n",
    "        return (\n",
    "            self.server == None\n",
    "            and self.serverArrival == None\n",
    "            and self.serviceTime == None\n",
    "        )\n",
    "\n",
    "    @property\n",
    "    def didWaitOutside(self) -> bool:\n",
    "        return self.waitingTime[\"outside\"] not in [None, 0]\n",
    "\n",
    "    @property\n",
    "    def waitingTime(self) -> Dict[Literal[\"outside\", \"inside\"], None | float]:\n",
    "        return {\n",
    "            \"outside\": (\n",
    "                None if self.didReturn else self.serverArrival - self.systemArrival\n",
    "            ),\n",
    "            \"inside\": (\n",
    "                None\n",
    "                if self.didReturn\n",
    "                else self.departure - self.serviceTime - self.serverArrival\n",
    "            ),\n",
    "        }"
   ]
  },
  {
   "cell_type": "markdown",
   "metadata": {},
   "source": [
    "#### Server\n"
   ]
  },
  {
   "cell_type": "code",
   "execution_count": 27,
   "metadata": {},
   "outputs": [],
   "source": [
    "class Server:\n",
    "    def __init__(self, id: int, controller: ProblemController) -> None:\n",
    "        self.id = id\n",
    "        self.controller = controller\n",
    "        self.status: Literal[\"available\", \"busy\"] = \"available\"\n",
    "        self.queue: List[Customer] = []\n",
    "\n",
    "    @property\n",
    "    def customersServed(self) -> List[Customer]:\n",
    "        return [\n",
    "            customer\n",
    "            for customer in self.controller.customersServed\n",
    "            if customer.server == self\n",
    "        ]\n",
    "\n",
    "    @property\n",
    "    def utilizationPercentage(self) -> float:\n",
    "        return (\n",
    "            sum(customer.serviceTime for customer in self.customersServed)\n",
    "            / self.controller.clock\n",
    "        )\n",
    "\n",
    "    @property\n",
    "    def totalCustomersServed(self) -> int:\n",
    "        return len(self.customersServed)\n",
    "\n",
    "    @property\n",
    "    def averageServiceTime(self) -> float:\n",
    "        return sum(customer.serviceTime for customer in self.customersServed) / len(\n",
    "            self.customersServed\n",
    "        )\n",
    "\n",
    "    @property\n",
    "    def averageWaitingTime(self) -> float:\n",
    "        return sum(\n",
    "            customer.waitingTime[\"inside\"] for customer in self.customersServed\n",
    "        ) / len(self.customersServed)"
   ]
  },
  {
   "cell_type": "markdown",
   "metadata": {},
   "source": [
    "#### Controller\n"
   ]
  },
  {
   "cell_type": "code",
   "execution_count": 28,
   "metadata": {},
   "outputs": [],
   "source": [
    "class ProblemController(SimController):\n",
    "    def __init__(self, waitOutside: bool) -> None:\n",
    "        super().__init__(stopTime=3 * 60, initialEvent=ArrivalEvent(initial=True))\n",
    "        self.totalCustomersArrived: int = 0\n",
    "        self.customersServed: List[Customer] = []\n",
    "        self.outsideQueue: List[Customer] = []\n",
    "        self.servers: List[Server] = [Server(i, controller=self) for i in range(1, 4)]\n",
    "        self.waitOutside = waitOutside\n",
    "\n",
    "    def simulate(self) -> Dict[str, float]:\n",
    "        super().simulate()\n",
    "\n",
    "        customersWaitedOutside = [\n",
    "            customer for customer in self.customersServed if customer.didWaitOutside\n",
    "        ]\n",
    "\n",
    "        customersNotReturned = [\n",
    "            customer for customer in self.customersServed if not customer.didReturn\n",
    "        ]\n",
    "\n",
    "        results = {\n",
    "            \"TCA\": self.totalCustomersArrived,\n",
    "            f\"TCWO\": len(customersWaitedOutside),\n",
    "            f\"AWTO\": (\n",
    "                sum(\n",
    "                    customer.waitingTime[\"outside\"] for customer in customersNotReturned\n",
    "                )\n",
    "                / len(customersNotReturned)\n",
    "                if customersNotReturned\n",
    "                else 0\n",
    "            ),\n",
    "        }\n",
    "\n",
    "        for server in self.servers:\n",
    "            results |= {\n",
    "                f\"UP{server.id}\": server.utilizationPercentage,\n",
    "                f\"TCS{server.id}\": server.totalCustomersServed,\n",
    "                f\"AST{server.id}\": server.averageServiceTime,\n",
    "                f\"AWTI{server.id}\": server.averageWaitingTime,\n",
    "            }\n",
    "\n",
    "        return results"
   ]
  },
  {
   "cell_type": "markdown",
   "metadata": {},
   "source": [
    "#### Event\n"
   ]
  },
  {
   "cell_type": "markdown",
   "metadata": {},
   "source": [
    "##### Arrival\n"
   ]
  },
  {
   "cell_type": "code",
   "execution_count": 29,
   "metadata": {},
   "outputs": [],
   "source": [
    "ARRIVAL_EVENT_INTERVAL: Callable[[], float] | None = None\n",
    "\n",
    "\n",
    "class ArrivalEvent(SimEvent[ProblemController]):\n",
    "    def __init__(self, initial: bool = False) -> None:\n",
    "        super().__init__(0 if initial else ARRIVAL_EVENT_INTERVAL())\n",
    "\n",
    "        self.customer = Customer()\n",
    "\n",
    "    def trigger(self) -> None:\n",
    "        self.controller.dispatchEvent(ArrivalEvent())\n",
    "\n",
    "        self.customer.systemArrival = self.dueTime\n",
    "        self.controller.totalCustomersArrived += 1\n",
    "\n",
    "        if self.controller.outsideQueue:\n",
    "            if self.controller.waitOutside:\n",
    "                self.controller.outsideQueue.append(self.customer)\n",
    "            else:\n",
    "                self.customer.departure = self.dueTime\n",
    "        else:\n",
    "            server = min(self.controller.servers, key=lambda server: len(server.queue))\n",
    "\n",
    "            if len(server.queue) + int(server.status == \"busy\") < 4:\n",
    "                self.customer.server = server\n",
    "                self.customer.serverArrival = self.dueTime\n",
    "\n",
    "                if server.status == \"available\":\n",
    "                    server.status = \"busy\"\n",
    "\n",
    "                    self.controller.dispatchEvent(DepartureEvent(self.customer))\n",
    "                else:\n",
    "                    server.queue.append(self.customer)\n",
    "            elif self.controller.waitOutside:\n",
    "                self.controller.outsideQueue.append(self.customer)\n",
    "            else:\n",
    "                self.customer.departure = self.dueTime"
   ]
  },
  {
   "cell_type": "markdown",
   "metadata": {},
   "source": [
    "##### Departure\n"
   ]
  },
  {
   "cell_type": "code",
   "execution_count": 30,
   "metadata": {},
   "outputs": [],
   "source": [
    "DEPARTURE_EVENT_INTERVAL: Callable[[], float] | None = None\n",
    "\n",
    "\n",
    "class DepartureEvent(SimEvent[ProblemController]):\n",
    "    def __init__(self, customer: Customer) -> None:\n",
    "        super().__init__(DEPARTURE_EVENT_INTERVAL())\n",
    "\n",
    "        self.customer = customer\n",
    "\n",
    "    def trigger(self) -> None:\n",
    "        self.customer.serviceTime = self.interval\n",
    "        self.customer.departure = self.dueTime\n",
    "\n",
    "        self.controller.customersServed.append(self.customer)\n",
    "\n",
    "        if self.customer.server.queue:\n",
    "            customer = self.customer.server.queue.pop(0)\n",
    "\n",
    "            self.controller.dispatchEvent(DepartureEvent(customer))\n",
    "\n",
    "            if self.controller.outsideQueue:\n",
    "                customer = self.controller.outsideQueue.pop(0)\n",
    "                customer.server = self.customer.server\n",
    "                customer.serverArrival = self.dueTime\n",
    "\n",
    "                self.customer.server.queue.append(customer)\n",
    "        else:\n",
    "            self.customer.server.status = \"available\""
   ]
  },
  {
   "cell_type": "markdown",
   "metadata": {},
   "source": [
    "#### Results\n"
   ]
  },
  {
   "cell_type": "code",
   "execution_count": 31,
   "metadata": {},
   "outputs": [
    {
     "data": {
      "text/plain": [
       "TCA      180.494000\n",
       "TCWO       0.111000\n",
       "AWTO       0.000415\n",
       "UP1        0.995250\n",
       "TCS1      71.497000\n",
       "AST1       2.500402\n",
       "AWTI1      2.133979\n",
       "UP2        0.934954\n",
       "TCS2      67.187000\n",
       "AST2       2.499520\n",
       "AWTI2      1.469316\n",
       "UP3        0.524374\n",
       "TCS3      37.687000\n",
       "AST3       2.499155\n",
       "AWTI3      0.969162\n",
       "dtype: float64"
      ]
     },
     "execution_count": 31,
     "metadata": {},
     "output_type": "execute_result"
    }
   ],
   "source": [
    "ARRIVAL_EVENT_INTERVAL = lambda: DistributionFunction.uniform(0, 2)\n",
    "DEPARTURE_EVENT_INTERVAL = lambda: DistributionFunction.uniform(2, 3)\n",
    "\n",
    "allResults: List[Dict[str, float]] = []\n",
    "\n",
    "for i in range(1000):\n",
    "    results = ProblemController(waitOutside=True).simulate()\n",
    "\n",
    "    allResults.append(results)\n",
    "\n",
    "pd.DataFrame(allResults).mean(axis=0)"
   ]
  },
  {
   "cell_type": "code",
   "execution_count": 32,
   "metadata": {},
   "outputs": [
    {
     "data": {
      "text/plain": [
       "TCA      180.785000\n",
       "TCWO       0.000000\n",
       "AWTO       0.000000\n",
       "UP1        0.994989\n",
       "TCS1      71.529000\n",
       "AST1       2.498625\n",
       "AWTI1      2.119386\n",
       "UP2        0.934079\n",
       "TCS2      67.050000\n",
       "AST2       2.502262\n",
       "AWTI2      1.454496\n",
       "UP3        0.529627\n",
       "TCS3      37.981000\n",
       "AST3       2.504572\n",
       "AWTI3      0.958980\n",
       "dtype: float64"
      ]
     },
     "execution_count": 32,
     "metadata": {},
     "output_type": "execute_result"
    }
   ],
   "source": [
    "ARRIVAL_EVENT_INTERVAL = lambda: DistributionFunction.uniform(0, 2)\n",
    "DEPARTURE_EVENT_INTERVAL = lambda: DistributionFunction.uniform(2, 3)\n",
    "\n",
    "allResults: List[Dict[str, float]] = []\n",
    "\n",
    "for i in range(1000):\n",
    "    results = ProblemController(waitOutside=False).simulate()\n",
    "\n",
    "    allResults.append(results)\n",
    "\n",
    "pd.DataFrame(allResults).mean(axis=0)"
   ]
  },
  {
   "cell_type": "markdown",
   "metadata": {},
   "source": [
    "### Problem 3\n"
   ]
  },
  {
   "cell_type": "code",
   "execution_count": null,
   "metadata": {},
   "outputs": [],
   "source": []
  }
 ],
 "metadata": {
  "kernelspec": {
   "display_name": "Python 3",
   "language": "python",
   "name": "python3"
  },
  "language_info": {
   "codemirror_mode": {
    "name": "ipython",
    "version": 3
   },
   "file_extension": ".py",
   "mimetype": "text/x-python",
   "name": "python",
   "nbconvert_exporter": "python",
   "pygments_lexer": "ipython3",
   "version": "3.12.3"
  }
 },
 "nbformat": 4,
 "nbformat_minor": 2
}
