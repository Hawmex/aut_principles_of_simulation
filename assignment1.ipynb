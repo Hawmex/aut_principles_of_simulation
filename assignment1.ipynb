{
 "cells": [
  {
   "cell_type": "markdown",
   "metadata": {},
   "source": [
    "### Prerequisites"
   ]
  },
  {
   "cell_type": "code",
   "execution_count": 1,
   "metadata": {},
   "outputs": [],
   "source": [
    "import random\n",
    "import pandas as pd\n",
    "import seaborn as sns\n",
    "\n",
    "from base import *"
   ]
  },
  {
   "cell_type": "markdown",
   "metadata": {},
   "source": [
    "### Server"
   ]
  },
  {
   "cell_type": "code",
   "execution_count": 2,
   "metadata": {},
   "outputs": [],
   "source": [
    "class Server:\n",
    "    def __init__(self) -> None:\n",
    "        self.isCurrentlyUtilized: bool = False\n",
    "        self.totalUtilizationTime: float = 0"
   ]
  },
  {
   "cell_type": "markdown",
   "metadata": {},
   "source": [
    "### Customer"
   ]
  },
  {
   "cell_type": "code",
   "execution_count": 3,
   "metadata": {},
   "outputs": [],
   "source": [
    "class Customer:\n",
    "    def __init__(self) -> None:\n",
    "        self.serviceTime: float\n",
    "        self.departure: float\n",
    "        self.arrival: float\n",
    "\n",
    "    @property\n",
    "    def totalTime(self) -> float:\n",
    "        return self.departure - self.arrival\n",
    "\n",
    "    @property\n",
    "    def waitingTime(self) -> float:\n",
    "        return self.totalTime - self.serviceTime"
   ]
  },
  {
   "cell_type": "markdown",
   "metadata": {},
   "source": [
    "### Server Selection Strategy"
   ]
  },
  {
   "cell_type": "code",
   "execution_count": 4,
   "metadata": {},
   "outputs": [],
   "source": [
    "class ServerSelectionStrategy:\n",
    "    @staticmethod\n",
    "    def firstAvailable(servers: Dict[int, Server]) -> int:\n",
    "        serverId: int = -1\n",
    "        serversList = list(servers.items())\n",
    "\n",
    "        for id, server in serversList:\n",
    "            if not server.isCurrentlyUtilized:\n",
    "                serverId = id\n",
    "\n",
    "        return serverId\n",
    "\n",
    "    @staticmethod\n",
    "    def random(servers: Dict[int, Server]) -> int:\n",
    "        serverId: int = -1\n",
    "        serversList = list(servers.items())\n",
    "\n",
    "        random.shuffle(serversList)\n",
    "\n",
    "        for id, server in serversList:\n",
    "            if not server.isCurrentlyUtilized:\n",
    "                serverId = id\n",
    "\n",
    "        return serverId"
   ]
  },
  {
   "cell_type": "markdown",
   "metadata": {},
   "source": [
    "### General Form of the Problem: Single Queue Multi-Server"
   ]
  },
  {
   "cell_type": "code",
   "execution_count": 5,
   "metadata": {},
   "outputs": [],
   "source": [
    "class SingleQueueMultiServerController(SimController):\n",
    "    def __init__(\n",
    "        self,\n",
    "        initialEvent: SimEvent,\n",
    "        stop: float,\n",
    "        numberOfServers: int,\n",
    "        serverUtilizationStrategy: Callable[[Dict[int, Server]], int],\n",
    "    ) -> None:\n",
    "        assert numberOfServers > 0, \"Non-positive number of servers\"\n",
    "\n",
    "        super().__init__(initialEvent, stop)\n",
    "\n",
    "        self.history: List[Customer] = []\n",
    "        self.queue: List[Customer] = []\n",
    "\n",
    "        self.servers: Dict[int, Server] = {\n",
    "            i: Server() for i in range(1, numberOfServers + 1)\n",
    "        }\n",
    "\n",
    "        self.serverUtilizationStrategy = serverUtilizationStrategy\n",
    "\n",
    "    def simulate(self) -> Dict[str, float]:\n",
    "        super().simulate()\n",
    "\n",
    "        aup = sum(\n",
    "            server.totalUtilizationTime / self.clock for server in self.servers.values()\n",
    "        ) / len(self.servers)\n",
    "\n",
    "        awtp = sum(\n",
    "            customer.waitingTime / customer.totalTime for customer in self.history\n",
    "        ) / len(self.history)\n",
    "\n",
    "        return {\"AUTP\": aup, \"AWTP\": awtp, \"ASTP\": 1 - awtp}"
   ]
  },
  {
   "cell_type": "markdown",
   "metadata": {},
   "source": [
    "### Special Case: Able & Baker"
   ]
  },
  {
   "cell_type": "code",
   "execution_count": 6,
   "metadata": {},
   "outputs": [],
   "source": [
    "class AbleBakerController(SingleQueueMultiServerController):\n",
    "    def __init__(\n",
    "        self,\n",
    "        initialEvent: SimEvent,\n",
    "        stop: float,\n",
    "        serverUtilizationStrategy: Callable[[Dict[int, Server]], int],\n",
    "    ) -> None:\n",
    "        super().__init__(\n",
    "            initialEvent,\n",
    "            stop,\n",
    "            numberOfServers=2,\n",
    "            serverUtilizationStrategy=serverUtilizationStrategy,\n",
    "        )\n",
    "\n",
    "    def simulate(self) -> Dict[str, float]:\n",
    "        super().simulate()\n",
    "\n",
    "        positiveWaitingTimes = list(\n",
    "            filter(\n",
    "                lambda waitingTime: waitingTime > 0,\n",
    "                map(lambda customer: customer.waitingTime, self.history),\n",
    "            )\n",
    "        )\n",
    "\n",
    "        return {\n",
    "            \"AWT\": sum(positiveWaitingTimes) / len(positiveWaitingTimes),\n",
    "            \"WCP\": len(positiveWaitingTimes) / len(self.history),\n",
    "        } | {\n",
    "            f\"UTP_{id}\": server.totalUtilizationTime / self.clock\n",
    "            for id, server in self.servers.items()\n",
    "        }"
   ]
  },
  {
   "cell_type": "markdown",
   "metadata": {},
   "source": [
    "### Departure Event"
   ]
  },
  {
   "cell_type": "code",
   "execution_count": 7,
   "metadata": {},
   "outputs": [],
   "source": [
    "DEPARTURE_EVENT_INTERVAL: Callable[[], float] = None\n",
    "\n",
    "\n",
    "class DepartureEvent(SimEvent[AbleBakerController]):\n",
    "    def __init__(self, customer: Customer, serverId: int) -> None:\n",
    "        super().__init__(DEPARTURE_EVENT_INTERVAL())\n",
    "\n",
    "        assert serverId >= 1\n",
    "\n",
    "        self.customer = customer\n",
    "        self.serverId = serverId\n",
    "\n",
    "    def trigger(self) -> None:\n",
    "        self.customer.serviceTime = self.interval\n",
    "        self.customer.departure = self.due\n",
    "\n",
    "        self.controller.history.append(self.customer)\n",
    "\n",
    "        self.controller.servers[self.serverId].totalUtilizationTime += self.interval\n",
    "\n",
    "        if self.controller.queue:\n",
    "            customer = self.controller.queue.pop(0)\n",
    "\n",
    "            self.controller.dispatchEvent(DepartureEvent(customer, self.serverId))\n",
    "        else:\n",
    "            self.controller.servers[self.serverId].isCurrentlyUtilized = False"
   ]
  },
  {
   "cell_type": "markdown",
   "metadata": {},
   "source": [
    "### Arrival Event"
   ]
  },
  {
   "cell_type": "code",
   "execution_count": 8,
   "metadata": {},
   "outputs": [],
   "source": [
    "ARRIVAL_EVENT_INTERVAL: Callable[[], float] = None\n",
    "\n",
    "\n",
    "class ArrivalEvent(SimEvent[AbleBakerController]):\n",
    "    def __init__(self, initial: bool = False) -> None:\n",
    "        super().__init__(0 if initial else ARRIVAL_EVENT_INTERVAL())\n",
    "\n",
    "        self.customer = Customer()\n",
    "\n",
    "    def trigger(self) -> None:\n",
    "        self.customer.arrival = self.due\n",
    "\n",
    "        self.controller.dispatchEvent(ArrivalEvent())\n",
    "\n",
    "        serverId = self.controller.serverUtilizationStrategy(self.controller.servers)\n",
    "\n",
    "        if serverId == -1:\n",
    "            self.controller.queue.append(self.customer)\n",
    "        else:\n",
    "            self.controller.servers[serverId].isCurrentlyUtilized = True\n",
    "            self.controller.dispatchEvent(DepartureEvent(self.customer, serverId))"
   ]
  },
  {
   "cell_type": "markdown",
   "metadata": {},
   "source": [
    "### Problem 1"
   ]
  },
  {
   "cell_type": "markdown",
   "metadata": {},
   "source": [
    "#### Selecting Servers Randomly"
   ]
  },
  {
   "cell_type": "code",
   "execution_count": 9,
   "metadata": {},
   "outputs": [
    {
     "data": {
      "text/plain": [
       "AWT      38.289603\n",
       "WCP       0.977032\n",
       "UTP_1     0.984556\n",
       "UTP_2     0.993068\n",
       "dtype: float64"
      ]
     },
     "execution_count": 9,
     "metadata": {},
     "output_type": "execute_result"
    }
   ],
   "source": [
    "ARRIVAL_EVENT_INTERVAL = lambda: DistributionFunction.uniform(3, 6)\n",
    "DEPARTURE_EVENT_INTERVAL = lambda: DistributionFunction.uniform(9, 12)\n",
    "\n",
    "\n",
    "allResults = []\n",
    "\n",
    "for i in range(1000):\n",
    "    results = AbleBakerController(\n",
    "        initialEvent=ArrivalEvent(initial=True),\n",
    "        stop=9 * 60,\n",
    "        serverUtilizationStrategy=ServerSelectionStrategy.firstAvailable,\n",
    "    ).simulate()\n",
    "\n",
    "    allResults.append(results)\n",
    "\n",
    "pd.DataFrame(allResults).mean(axis=0)"
   ]
  },
  {
   "cell_type": "markdown",
   "metadata": {},
   "source": [
    "#### Selecting the First Available Server"
   ]
  },
  {
   "cell_type": "code",
   "execution_count": 10,
   "metadata": {},
   "outputs": [
    {
     "data": {
      "text/plain": [
       "AWT      38.362878\n",
       "WCP       0.977638\n",
       "UTP_1     0.988914\n",
       "UTP_2     0.988742\n",
       "dtype: float64"
      ]
     },
     "execution_count": 10,
     "metadata": {},
     "output_type": "execute_result"
    }
   ],
   "source": [
    "ARRIVAL_EVENT_INTERVAL = lambda: DistributionFunction.uniform(3, 6)\n",
    "DEPARTURE_EVENT_INTERVAL = lambda: DistributionFunction.uniform(9, 12)\n",
    "\n",
    "allResults = []\n",
    "\n",
    "for i in range(1000):\n",
    "    results = AbleBakerController(\n",
    "        initialEvent=ArrivalEvent(initial=True),\n",
    "        stop=9 * 60,\n",
    "        serverUtilizationStrategy=ServerSelectionStrategy.random,\n",
    "    ).simulate()\n",
    "\n",
    "    allResults.append(results)\n",
    "\n",
    "pd.DataFrame(allResults).mean(axis=0)"
   ]
  },
  {
   "cell_type": "markdown",
   "metadata": {},
   "source": [
    "### Problem 2"
   ]
  },
  {
   "cell_type": "markdown",
   "metadata": {},
   "source": [
    "#### Solution"
   ]
  },
  {
   "cell_type": "code",
   "execution_count": 11,
   "metadata": {},
   "outputs": [
    {
     "data": {
      "text/html": [
       "<div>\n",
       "<style scoped>\n",
       "    .dataframe tbody tr th:only-of-type {\n",
       "        vertical-align: middle;\n",
       "    }\n",
       "\n",
       "    .dataframe tbody tr th {\n",
       "        vertical-align: top;\n",
       "    }\n",
       "\n",
       "    .dataframe thead th {\n",
       "        text-align: right;\n",
       "    }\n",
       "</style>\n",
       "<table border=\"1\" class=\"dataframe\">\n",
       "  <thead>\n",
       "    <tr style=\"text-align: right;\">\n",
       "      <th></th>\n",
       "      <th>AUTP</th>\n",
       "      <th>AWTP</th>\n",
       "      <th>ASTP</th>\n",
       "      <th>Score</th>\n",
       "    </tr>\n",
       "  </thead>\n",
       "  <tbody>\n",
       "    <tr>\n",
       "      <th>1</th>\n",
       "      <td>0.993869</td>\n",
       "      <td>0.904710</td>\n",
       "      <td>0.095290</td>\n",
       "      <td>0.173906</td>\n",
       "    </tr>\n",
       "    <tr>\n",
       "      <th>2</th>\n",
       "      <td>0.991482</td>\n",
       "      <td>0.874826</td>\n",
       "      <td>0.125174</td>\n",
       "      <td>0.222284</td>\n",
       "    </tr>\n",
       "    <tr>\n",
       "      <th>3</th>\n",
       "      <td>0.988457</td>\n",
       "      <td>0.800267</td>\n",
       "      <td>0.199733</td>\n",
       "      <td>0.332317</td>\n",
       "    </tr>\n",
       "    <tr>\n",
       "      <th>4</th>\n",
       "      <td>0.960138</td>\n",
       "      <td>0.399333</td>\n",
       "      <td>0.600667</td>\n",
       "      <td>0.739007</td>\n",
       "    </tr>\n",
       "    <tr>\n",
       "      <th>5</th>\n",
       "      <td>0.788233</td>\n",
       "      <td>0.057165</td>\n",
       "      <td>0.942835</td>\n",
       "      <td>0.858630</td>\n",
       "    </tr>\n",
       "    <tr>\n",
       "      <th>6</th>\n",
       "      <td>0.657605</td>\n",
       "      <td>0.012788</td>\n",
       "      <td>0.987212</td>\n",
       "      <td>0.789383</td>\n",
       "    </tr>\n",
       "    <tr>\n",
       "      <th>7</th>\n",
       "      <td>0.563745</td>\n",
       "      <td>0.002873</td>\n",
       "      <td>0.997127</td>\n",
       "      <td>0.720271</td>\n",
       "    </tr>\n",
       "    <tr>\n",
       "      <th>8</th>\n",
       "      <td>0.494336</td>\n",
       "      <td>0.000713</td>\n",
       "      <td>0.999287</td>\n",
       "      <td>0.661457</td>\n",
       "    </tr>\n",
       "    <tr>\n",
       "      <th>9</th>\n",
       "      <td>0.438731</td>\n",
       "      <td>0.000119</td>\n",
       "      <td>0.999881</td>\n",
       "      <td>0.609864</td>\n",
       "    </tr>\n",
       "    <tr>\n",
       "      <th>10</th>\n",
       "      <td>0.395381</td>\n",
       "      <td>0.000017</td>\n",
       "      <td>0.999983</td>\n",
       "      <td>0.566697</td>\n",
       "    </tr>\n",
       "  </tbody>\n",
       "</table>\n",
       "</div>"
      ],
      "text/plain": [
       "        AUTP      AWTP      ASTP     Score\n",
       "1   0.993869  0.904710  0.095290  0.173906\n",
       "2   0.991482  0.874826  0.125174  0.222284\n",
       "3   0.988457  0.800267  0.199733  0.332317\n",
       "4   0.960138  0.399333  0.600667  0.739007\n",
       "5   0.788233  0.057165  0.942835  0.858630\n",
       "6   0.657605  0.012788  0.987212  0.789383\n",
       "7   0.563745  0.002873  0.997127  0.720271\n",
       "8   0.494336  0.000713  0.999287  0.661457\n",
       "9   0.438731  0.000119  0.999881  0.609864\n",
       "10  0.395381  0.000017  0.999983  0.566697"
      ]
     },
     "execution_count": 11,
     "metadata": {},
     "output_type": "execute_result"
    }
   ],
   "source": [
    "ARRIVAL_EVENT_INTERVAL = lambda: DistributionFunction.uniform(0, 4)\n",
    "DEPARTURE_EVENT_INTERVAL = lambda: DistributionFunction.uniform(6, 10)\n",
    "\n",
    "allResults = {}\n",
    "\n",
    "for numberOfServers in range(1, 11):\n",
    "    iterResults = []\n",
    "\n",
    "    for i in range(1000):\n",
    "        results = SingleQueueMultiServerController(\n",
    "            initialEvent=ArrivalEvent(initial=True),\n",
    "            stop=8 * 60,\n",
    "            numberOfServers=numberOfServers,\n",
    "            serverUtilizationStrategy=ServerSelectionStrategy.random,\n",
    "        ).simulate()\n",
    "\n",
    "        iterResults.append(results)\n",
    "\n",
    "    allResults[numberOfServers] = pd.DataFrame(iterResults).mean(axis=0)\n",
    "\n",
    "df = pd.DataFrame(allResults).T\n",
    "\n",
    "df[\"Score\"] = 2 * df[\"AUTP\"] * df[\"ASTP\"] / (df[\"AUTP\"] + df[\"ASTP\"])\n",
    "\n",
    "df"
   ]
  },
  {
   "cell_type": "markdown",
   "metadata": {},
   "source": [
    "##### Results"
   ]
  },
  {
   "cell_type": "code",
   "execution_count": 14,
   "metadata": {},
   "outputs": [
    {
     "data": {
      "text/plain": [
       "<Axes: >"
      ]
     },
     "execution_count": 14,
     "metadata": {},
     "output_type": "execute_result"
    },
    {
     "data": {
      "image/png": "[encoded data removed]",
      "text/plain": [
       "<Figure size 640x480 with 1 Axes>"
      ]
     },
     "metadata": {},
     "output_type": "display_data"
    }
   ],
   "source": [
    "sns.set_theme(\"paper\")\n",
    "sns.lineplot(df)"
   ]
  }
 ],
 "metadata": {
  "kernelspec": {
   "display_name": "Python 3",
   "language": "python",
   "name": "python3"
  },
  "language_info": {
   "codemirror_mode": {
    "name": "ipython",
    "version": 3
   },
   "file_extension": ".py",
   "mimetype": "text/x-python",
   "name": "python",
   "nbconvert_exporter": "python",
   "pygments_lexer": "ipython3",
   "version": "3.12.2"
  }
 },
 "nbformat": 4,
 "nbformat_minor": 2
}
